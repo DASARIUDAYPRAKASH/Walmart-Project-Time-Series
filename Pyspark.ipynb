{
 "cells": [
  {
   "cell_type": "markdown",
   "metadata": {
    "application/vnd.databricks.v1+cell": {
     "cellMetadata": {},
     "inputWidgets": {},
     "nuid": "be3b3725-5e52-48d2-840e-9b87b2aee58e",
     "showTitle": false,
     "tableResultSettingsMap": {},
     "title": ""
    },
    "id": "bolhhrs62PeT"
   },
   "source": [
    "Pyvot Examples : a pivot operation turns unique values from one column into multiple columns in the result set—essentially “rotating” your data from rows into columns.\n"
   ]
  },
  {
   "cell_type": "code",
   "execution_count": 0,
   "metadata": {
    "application/vnd.databricks.v1+cell": {
     "cellMetadata": {},
     "inputWidgets": {},
     "nuid": "57f11c01-bf91-4ac1-a4d4-b6b832033960",
     "showTitle": false,
     "tableResultSettingsMap": {},
     "title": ""
    },
    "id": "cVJwNlCupDMG"
   },
   "outputs": [],
   "source": [
    "import pyspark\n",
    "from pyspark.sql import SparkSession\n",
    "from pyspark.sql.functions import expr\n",
    "spark = SparkSession.builder.appName('SparkByExamples.com').getOrCreate()"
   ]
  },
  {
   "cell_type": "code",
   "execution_count": 0,
   "metadata": {
    "application/vnd.databricks.v1+cell": {
     "cellMetadata": {},
     "inputWidgets": {},
     "nuid": "c852518d-1e7e-4953-ad1d-1b0b623fd6d0",
     "showTitle": false,
     "tableResultSettingsMap": {},
     "title": ""
    },
    "id": "FeoZyXqMpi9B"
   },
   "outputs": [],
   "source": [
    "data = [(\"Banana\",1000,\"USA\"), (\"Carrots\",1500,\"USA\"), (\"Beans\",1600,\"USA\"), \\\n",
    "      (\"Orange\",2000,\"USA\"),(\"Orange\",2000,\"USA\"),(\"Banana\",400,\"China\"), \\\n",
    "      (\"Carrots\",1200,\"China\"),(\"Beans\",1500,\"China\"),(\"Orange\",4000,\"China\"), \\\n",
    "      (\"Banana\",2000,\"Canada\"),(\"Carrots\",2000,\"Canada\"),(\"Beans\",2000,\"Mexico\")]"
   ]
  },
  {
   "cell_type": "code",
   "execution_count": 0,
   "metadata": {
    "application/vnd.databricks.v1+cell": {
     "cellMetadata": {},
     "inputWidgets": {},
     "nuid": "b0b0b7ec-a248-423f-8873-9db234443d67",
     "showTitle": false,
     "tableResultSettingsMap": {},
     "title": ""
    },
    "colab": {
     "base_uri": "https://localhost:8080/"
    },
    "id": "iw7liuagpvj_",
    "outputId": "c6ca74dd-d89a-43ee-d0f3-b0337c81be61"
   },
   "outputs": [],
   "source": [
    "columns= [\"Product\",\"Amount\",\"Country\"]\n",
    "df = spark.createDataFrame(data = data, schema = columns)\n",
    "df.printSchema()\n",
    "df.show(truncate=False)"
   ]
  },
  {
   "cell_type": "code",
   "execution_count": 0,
   "metadata": {
    "application/vnd.databricks.v1+cell": {
     "cellMetadata": {},
     "inputWidgets": {},
     "nuid": "4bb7f1f5-337e-4f11-8b6f-c10777612f70",
     "showTitle": false,
     "tableResultSettingsMap": {},
     "title": ""
    },
    "colab": {
     "base_uri": "https://localhost:8080/"
    },
    "id": "bQl4AR-WqBy4",
    "outputId": "799e3bd7-4c66-487e-d0ee-d03bc2f3cfc7"
   },
   "outputs": [],
   "source": [
    "pivotDF = df.groupBy(\"Product\").pivot(\"Country\").sum(\"Amount\")\n",
    "pivotDF.printSchema()\n",
    "pivotDF.show(truncate=False)"
   ]
  },
  {
   "cell_type": "code",
   "execution_count": 0,
   "metadata": {
    "application/vnd.databricks.v1+cell": {
     "cellMetadata": {},
     "inputWidgets": {},
     "nuid": "88e49426-baf5-43c1-917a-ad4c7b4b0295",
     "showTitle": false,
     "tableResultSettingsMap": {},
     "title": ""
    },
    "colab": {
     "base_uri": "https://localhost:8080/"
    },
    "id": "bRbE7LZqqahw",
    "outputId": "6e8b3591-64da-48c7-907f-9dc29b618ed3"
   },
   "outputs": [],
   "source": [
    "pivotDF = df.groupBy(\"Product\", \"Country\") \\\n",
    "            .sum(\"Amount\") \\\n",
    "            .groupBy(\"Product\") \\\n",
    "            .pivot(\"country\") \\\n",
    "            .sum(\"sum(amount)\")\n",
    "pivotDF.printSchema()\n",
    "pivotDF.show()"
   ]
  },
  {
   "cell_type": "code",
   "execution_count": 0,
   "metadata": {
    "application/vnd.databricks.v1+cell": {
     "cellMetadata": {},
     "inputWidgets": {},
     "nuid": "c255512f-8c9f-438b-ae78-64f4393f31a8",
     "showTitle": false,
     "tableResultSettingsMap": {},
     "title": ""
    },
    "colab": {
     "base_uri": "https://localhost:8080/"
    },
    "id": "uOOmDE4_rUDw",
    "outputId": "077fd904-1ed5-4bbe-8e04-49529d174b55"
   },
   "outputs": [],
   "source": [
    "unpicotExpr = \"stack(4, 'Canada', Canada,'China', China, 'Mexico',Mexico,'USA',USA) as (country,Total)\"\n",
    "unPivotDF = pivotDF.select(\"Product\", expr(unpicotExpr)) \\\n",
    "    .where(\"Total is not null\")\n",
    "unPivotDF.show(truncate=False)"
   ]
  },
  {
   "cell_type": "code",
   "execution_count": 0,
   "metadata": {
    "application/vnd.databricks.v1+cell": {
     "cellMetadata": {},
     "inputWidgets": {},
     "nuid": "e323c173-1760-4035-a99a-ddf05b085149",
     "showTitle": false,
     "tableResultSettingsMap": {},
     "title": ""
    },
    "colab": {
     "base_uri": "https://localhost:8080/"
    },
    "id": "SEbD31BCsSwx",
    "outputId": "6d90f830-79f6-4660-af5e-e3bdd47041af"
   },
   "outputs": [],
   "source": [
    "unpicotExpr = \"stack(4, 'Canada', Canada,'China', China, 'Mexico',Mexico,'USA',USA) as (country,Total)\"\n",
    "unPivotDF = pivotDF.select(\"Product\", expr(unpicotExpr))\n",
    "unPivotDF.show(truncate=False)"
   ]
  },
  {
   "cell_type": "markdown",
   "metadata": {
    "application/vnd.databricks.v1+cell": {
     "cellMetadata": {},
     "inputWidgets": {},
     "nuid": "19b1a2af-eb92-408f-8c1a-56c10ab6c906",
     "showTitle": false,
     "tableResultSettingsMap": {},
     "title": ""
    },
    "id": "6MnuBD_22hrI"
   },
   "source": [
    "Add Month:"
   ]
  },
  {
   "cell_type": "code",
   "execution_count": 0,
   "metadata": {
    "application/vnd.databricks.v1+cell": {
     "cellMetadata": {},
     "inputWidgets": {},
     "nuid": "a79ffacc-5c27-4633-8616-3b810c48b837",
     "showTitle": false,
     "tableResultSettingsMap": {},
     "title": ""
    },
    "id": "Bhyj-Jkg2gcY"
   },
   "outputs": [],
   "source": [
    "from pyspark.sql import SparkSession\n",
    "spark = SparkSession.builder.getOrCreate()"
   ]
  },
  {
   "cell_type": "code",
   "execution_count": 0,
   "metadata": {
    "application/vnd.databricks.v1+cell": {
     "cellMetadata": {},
     "inputWidgets": {},
     "nuid": "ab46f594-3fd9-453d-8d2b-a82be9efc754",
     "showTitle": false,
     "tableResultSettingsMap": {},
     "title": ""
    },
    "colab": {
     "base_uri": "https://localhost:8080/"
    },
    "id": "iGdph_va2v6x",
    "outputId": "ca1708d9-ebc7-4d84-e10c-b90e86c6e78b"
   },
   "outputs": [],
   "source": [
    "from pyspark.sql.functions import col\n",
    "\n",
    "data=[(\"2019-01-23\",1),(\"2019-06-24\",2),(\"2019-09-20\",3)]\n",
    "from pyspark.sql.functions import col, expr, to_date\n",
    "\n",
    "data=[(\"2019-01-23\",1),(\"2019-06-24\",2),(\"2019-09-20\",3)]\n",
    "\n",
    "spark.createDataFrame(data).toDF(\"date\",\"increment\")\\\n",
    "     .select(col(\"date\"),col(\"increment\"), \\\n",
    "     expr(\"add_months(to_date(date,'yyyy-MM-dd'),cast(increment as int))\").alias(\"inc_date\")) \\\n",
    "     .show()"
   ]
  },
  {
   "cell_type": "markdown",
   "metadata": {
    "application/vnd.databricks.v1+cell": {
     "cellMetadata": {},
     "inputWidgets": {},
     "nuid": "3345850b-67ea-4c4b-a7a1-0eefbb785dbb",
     "showTitle": false,
     "tableResultSettingsMap": {},
     "title": ""
    },
    "id": "UJVLmKzPF_D_"
   },
   "source": [
    "Aggregate Functions : In Spark, aggregate functions are operations that take a set of values and return a single summarizing value. They’re most commonly used after a groupBy (in the DataFrame API) or in a SQL SELECT with GROUP BY. Under the hood, Spark can push these computations down into map-side combiners and reduce tasks for efficient distributed execution.\n",
    "\n"
   ]
  },
  {
   "cell_type": "code",
   "execution_count": 0,
   "metadata": {
    "application/vnd.databricks.v1+cell": {
     "cellMetadata": {},
     "inputWidgets": {},
     "nuid": "6c03306a-6fce-4eca-a647-1dda0e516292",
     "showTitle": false,
     "tableResultSettingsMap": {},
     "title": ""
    },
    "id": "IjjPYYchGM6e"
   },
   "outputs": [],
   "source": [
    "import pyspark\n",
    "from pyspark.sql import SparkSession\n",
    "from pyspark.sql.functions import approx_count_distinct,collect_list\n",
    "from pyspark.sql.functions import collect_set,sum,avg,max,countDistinct,count\n",
    "from pyspark.sql.functions import first, last, kurtosis, min, mean, skewness\n",
    "from pyspark.sql.functions import stddev, stddev_samp, stddev_pop, sumDistinct\n",
    "from pyspark.sql.functions import variance,var_samp,  var_pop\n"
   ]
  },
  {
   "cell_type": "code",
   "execution_count": 0,
   "metadata": {
    "application/vnd.databricks.v1+cell": {
     "cellMetadata": {},
     "inputWidgets": {},
     "nuid": "a48198ac-fc99-40b4-8b84-6d4fe2ac3ccc",
     "showTitle": false,
     "tableResultSettingsMap": {},
     "title": ""
    },
    "id": "X1Jw9sW8HeIv"
   },
   "outputs": [],
   "source": [
    "\n",
    "spark = SparkSession.builder.getOrCreate()"
   ]
  },
  {
   "cell_type": "code",
   "execution_count": 0,
   "metadata": {
    "application/vnd.databricks.v1+cell": {
     "cellMetadata": {},
     "inputWidgets": {},
     "nuid": "22e21a92-3298-40c1-acc2-79ef3b0afb8a",
     "showTitle": false,
     "tableResultSettingsMap": {},
     "title": ""
    },
    "id": "ha06jf_GHknG"
   },
   "outputs": [],
   "source": [
    "simpleData = [(\"James\", \"Sales\", 3000),\n",
    "    (\"Michael\", \"Sales\", 4600),\n",
    "    (\"Robert\", \"Sales\", 4100),\n",
    "    (\"Maria\", \"Finance\", 3000),\n",
    "    (\"James\", \"Sales\", 3000),\n",
    "    (\"Scott\", \"Finance\", 3300),\n",
    "    (\"Jen\", \"Finance\", 3900),\n",
    "    (\"Jeff\", \"Marketing\", 3000),\n",
    "    (\"Kumar\", \"Marketing\", 2000),\n",
    "    (\"Saif\", \"Sales\", 4100)\n",
    "  ]"
   ]
  },
  {
   "cell_type": "code",
   "execution_count": 0,
   "metadata": {
    "application/vnd.databricks.v1+cell": {
     "cellMetadata": {},
     "inputWidgets": {},
     "nuid": "9fd769ff-3b25-4560-9257-29119d04e830",
     "showTitle": false,
     "tableResultSettingsMap": {},
     "title": ""
    },
    "id": "kaY5kSFuHog_"
   },
   "outputs": [],
   "source": [
    "schema = [\"employee_name\", \"department\", \"salary\"]\n"
   ]
  },
  {
   "cell_type": "code",
   "execution_count": 0,
   "metadata": {
    "application/vnd.databricks.v1+cell": {
     "cellMetadata": {},
     "inputWidgets": {},
     "nuid": "180a19c7-6cbf-4905-b9ce-7073beaa02e4",
     "showTitle": false,
     "tableResultSettingsMap": {},
     "title": ""
    },
    "colab": {
     "base_uri": "https://localhost:8080/"
    },
    "id": "tZU1xczfHqd3",
    "outputId": "72d864fa-a181-4ab4-8409-72be081e05e5"
   },
   "outputs": [],
   "source": [
    "df = spark.createDataFrame(data=simpleData, schema = schema)\n",
    "df.printSchema()\n",
    "df.show(truncate=False)"
   ]
  },
  {
   "cell_type": "code",
   "execution_count": 0,
   "metadata": {
    "application/vnd.databricks.v1+cell": {
     "cellMetadata": {},
     "inputWidgets": {},
     "nuid": "8113ccf0-8957-420b-afb5-e526d5d547dc",
     "showTitle": false,
     "tableResultSettingsMap": {},
     "title": ""
    },
    "colab": {
     "base_uri": "https://localhost:8080/"
    },
    "id": "o3P-z-eUHxn4",
    "outputId": "42ec4e48-21c6-4f2c-b06d-a13f0dcf5435"
   },
   "outputs": [],
   "source": [
    "print(\"approx_count_distinct: \" + \\\n",
    "      str(df.select(approx_count_distinct(\"salary\")).collect()[0][0]))"
   ]
  },
  {
   "cell_type": "code",
   "execution_count": 0,
   "metadata": {
    "application/vnd.databricks.v1+cell": {
     "cellMetadata": {},
     "inputWidgets": {},
     "nuid": "6cf0a74c-5e31-4abb-b37a-7ea719121fe0",
     "showTitle": false,
     "tableResultSettingsMap": {},
     "title": ""
    },
    "colab": {
     "base_uri": "https://localhost:8080/"
    },
    "id": "UHPH6Xf1JytX",
    "outputId": "29e421f1-fb3a-4dd4-a50a-723f10541db3"
   },
   "outputs": [],
   "source": [
    "print(\"avg: \" + str(df.select(avg(\"salary\")).collect()[0][0]))"
   ]
  },
  {
   "cell_type": "code",
   "execution_count": 0,
   "metadata": {
    "application/vnd.databricks.v1+cell": {
     "cellMetadata": {},
     "inputWidgets": {},
     "nuid": "a6331ee5-c5b4-4b9c-9fc1-9f29c527bacc",
     "showTitle": false,
     "tableResultSettingsMap": {},
     "title": ""
    },
    "colab": {
     "base_uri": "https://localhost:8080/"
    },
    "id": "X70Dn_dWKBIO",
    "outputId": "2e59f6e5-9323-4af5-cd2d-b1faa85ab90a"
   },
   "outputs": [],
   "source": [
    "df.select(collect_list(\"salary\")).show(truncate=False)"
   ]
  },
  {
   "cell_type": "code",
   "execution_count": 0,
   "metadata": {
    "application/vnd.databricks.v1+cell": {
     "cellMetadata": {},
     "inputWidgets": {},
     "nuid": "6e4a181b-635d-4c4e-bc38-2021c44bbffb",
     "showTitle": false,
     "tableResultSettingsMap": {},
     "title": ""
    },
    "colab": {
     "base_uri": "https://localhost:8080/"
    },
    "id": "PC2A7IW9KG-3",
    "outputId": "9e571d14-a879-49b4-b6d7-40d17649ef12"
   },
   "outputs": [],
   "source": [
    "df.select(collect_set(\"salary\")).show(truncate=False)"
   ]
  },
  {
   "cell_type": "code",
   "execution_count": 0,
   "metadata": {
    "application/vnd.databricks.v1+cell": {
     "cellMetadata": {},
     "inputWidgets": {},
     "nuid": "d7fe9236-f186-4d8b-9e36-95ae5fbb9e28",
     "showTitle": false,
     "tableResultSettingsMap": {},
     "title": ""
    },
    "colab": {
     "base_uri": "https://localhost:8080/"
    },
    "id": "M1eyUKWOKL9m",
    "outputId": "69e88b75-8f94-40e5-9f45-b1a5facb800f"
   },
   "outputs": [],
   "source": [
    "df2 = df.select(countDistinct(\"department\", \"salary\"))\n",
    "df2.show(truncate=False)"
   ]
  },
  {
   "cell_type": "code",
   "execution_count": 0,
   "metadata": {
    "application/vnd.databricks.v1+cell": {
     "cellMetadata": {},
     "inputWidgets": {},
     "nuid": "bd257180-4c6c-4fdd-815e-cd7e8044c843",
     "showTitle": false,
     "tableResultSettingsMap": {},
     "title": ""
    },
    "colab": {
     "base_uri": "https://localhost:8080/"
    },
    "id": "eP_j-Pm_KZgO",
    "outputId": "82223374-1f83-468a-f00d-6c00d3c5fb8f"
   },
   "outputs": [],
   "source": [
    "print(\"Distinct Count of Department &amp; Salary: \"+str(df2.collect()[0][0]))"
   ]
  },
  {
   "cell_type": "code",
   "execution_count": 0,
   "metadata": {
    "application/vnd.databricks.v1+cell": {
     "cellMetadata": {},
     "inputWidgets": {},
     "nuid": "6387f3cf-c159-4817-9330-06623cf22f35",
     "showTitle": false,
     "tableResultSettingsMap": {},
     "title": ""
    },
    "colab": {
     "base_uri": "https://localhost:8080/"
    },
    "id": "WTPFZKvUKifm",
    "outputId": "729c7b0b-c3ee-4109-b8a9-a630bc1d23cc"
   },
   "outputs": [],
   "source": [
    "print(\"count: \"+str(df.select(count(\"salary\")).collect()[0][0]))"
   ]
  },
  {
   "cell_type": "code",
   "execution_count": 0,
   "metadata": {
    "application/vnd.databricks.v1+cell": {
     "cellMetadata": {},
     "inputWidgets": {},
     "nuid": "e90c986e-7211-47a9-957d-490ab0976606",
     "showTitle": false,
     "tableResultSettingsMap": {},
     "title": ""
    },
    "colab": {
     "base_uri": "https://localhost:8080/"
    },
    "id": "99Rj_szdK0kH",
    "outputId": "9bace205-1246-451e-cc0d-717330bf0d04"
   },
   "outputs": [],
   "source": [
    "df.select(first(\"salary\")).show(truncate=False)"
   ]
  },
  {
   "cell_type": "code",
   "execution_count": 0,
   "metadata": {
    "application/vnd.databricks.v1+cell": {
     "cellMetadata": {},
     "inputWidgets": {},
     "nuid": "2d5872a8-cbbd-482b-8439-6c326152dba3",
     "showTitle": false,
     "tableResultSettingsMap": {},
     "title": ""
    },
    "colab": {
     "base_uri": "https://localhost:8080/"
    },
    "id": "szIpKxeJK3Su",
    "outputId": "246e8ab2-32aa-44cf-d821-6b1e20b13cd6"
   },
   "outputs": [],
   "source": [
    "df.select(last(\"salary\")).show(truncate=False)"
   ]
  },
  {
   "cell_type": "code",
   "execution_count": 0,
   "metadata": {
    "application/vnd.databricks.v1+cell": {
     "cellMetadata": {},
     "inputWidgets": {},
     "nuid": "18a779a7-1924-43f0-a729-b28399b6687f",
     "showTitle": false,
     "tableResultSettingsMap": {},
     "title": ""
    },
    "colab": {
     "base_uri": "https://localhost:8080/"
    },
    "id": "YDOIXywwK55J",
    "outputId": "f666539a-9f91-4285-8cd0-6fac20d36870"
   },
   "outputs": [],
   "source": [
    "df.select(kurtosis(\"salary\")).show(truncate=False)"
   ]
  },
  {
   "cell_type": "code",
   "execution_count": 0,
   "metadata": {
    "application/vnd.databricks.v1+cell": {
     "cellMetadata": {},
     "inputWidgets": {},
     "nuid": "ea8c72b4-d4ba-4f6a-a69a-13a783e0627d",
     "showTitle": false,
     "tableResultSettingsMap": {},
     "title": ""
    },
    "colab": {
     "base_uri": "https://localhost:8080/"
    },
    "id": "u0kjkyDPLQnO",
    "outputId": "338ca4df-5af7-40d4-b95e-dcd2d1ecc5c7"
   },
   "outputs": [],
   "source": [
    "df.select(max(\"salary\")).show(truncate=False)"
   ]
  },
  {
   "cell_type": "code",
   "execution_count": 0,
   "metadata": {
    "application/vnd.databricks.v1+cell": {
     "cellMetadata": {},
     "inputWidgets": {},
     "nuid": "10e7d7db-bbf9-442c-9557-e16e0ce27972",
     "showTitle": false,
     "tableResultSettingsMap": {},
     "title": ""
    },
    "colab": {
     "base_uri": "https://localhost:8080/"
    },
    "id": "XMfr-Ke0LZ2Q",
    "outputId": "df56efe7-bbcd-4a2c-99cb-5fc3d0adfe91"
   },
   "outputs": [],
   "source": [
    "df.select(min(\"salary\")).show(truncate=False)"
   ]
  },
  {
   "cell_type": "code",
   "execution_count": 0,
   "metadata": {
    "application/vnd.databricks.v1+cell": {
     "cellMetadata": {},
     "inputWidgets": {},
     "nuid": "4370942a-3484-48b6-828b-f57f48c39f39",
     "showTitle": false,
     "tableResultSettingsMap": {},
     "title": ""
    },
    "colab": {
     "base_uri": "https://localhost:8080/"
    },
    "id": "FQshtokLLcAW",
    "outputId": "bcbcc970-59a3-4bee-b73c-4434456ebbfb"
   },
   "outputs": [],
   "source": [
    "df.select(mean(\"salary\")).show(truncate=False)"
   ]
  },
  {
   "cell_type": "code",
   "execution_count": 0,
   "metadata": {
    "application/vnd.databricks.v1+cell": {
     "cellMetadata": {},
     "inputWidgets": {},
     "nuid": "8aeabe85-5c09-436d-a566-2be72713868e",
     "showTitle": false,
     "tableResultSettingsMap": {},
     "title": ""
    },
    "colab": {
     "base_uri": "https://localhost:8080/"
    },
    "id": "GZmTD1_5Lekn",
    "outputId": "80546dc3-8b0b-4fe1-f8f2-e2d36578001b"
   },
   "outputs": [],
   "source": [
    "df.select(skewness(\"salary\")).show(truncate=False)"
   ]
  },
  {
   "cell_type": "code",
   "execution_count": 0,
   "metadata": {
    "application/vnd.databricks.v1+cell": {
     "cellMetadata": {},
     "inputWidgets": {},
     "nuid": "42e1f33f-d341-4128-87dd-b53761d3b52f",
     "showTitle": false,
     "tableResultSettingsMap": {},
     "title": ""
    },
    "colab": {
     "base_uri": "https://localhost:8080/"
    },
    "id": "4DSTj94bLgk3",
    "outputId": "0173d517-9d9f-425e-d71c-7c79348fbd91"
   },
   "outputs": [],
   "source": [
    "df.select(stddev(\"salary\"), stddev_samp(\"salary\"), \\\n",
    "    stddev_pop(\"salary\")).show(truncate=False)"
   ]
  },
  {
   "cell_type": "code",
   "execution_count": 0,
   "metadata": {
    "application/vnd.databricks.v1+cell": {
     "cellMetadata": {},
     "inputWidgets": {},
     "nuid": "5c5b1b87-2720-44bd-a5bc-bacb9302a861",
     "showTitle": false,
     "tableResultSettingsMap": {},
     "title": ""
    },
    "colab": {
     "base_uri": "https://localhost:8080/"
    },
    "id": "2gN0VA_SLr0X",
    "outputId": "2016d571-d0d1-421e-f4d6-7d5a31c8ac93"
   },
   "outputs": [],
   "source": [
    "df.select(sum(\"salary\")).show(truncate=False)"
   ]
  },
  {
   "cell_type": "code",
   "execution_count": 0,
   "metadata": {
    "application/vnd.databricks.v1+cell": {
     "cellMetadata": {},
     "inputWidgets": {},
     "nuid": "46f1ba19-c6fd-4569-8962-998a25032aa3",
     "showTitle": false,
     "tableResultSettingsMap": {},
     "title": ""
    },
    "colab": {
     "base_uri": "https://localhost:8080/"
    },
    "id": "c33t2s8aLrsA",
    "outputId": "5f360827-5267-41e3-a2db-11d66fda6fff"
   },
   "outputs": [],
   "source": [
    "df.select(sumDistinct(\"salary\")).show(truncate=False)"
   ]
  },
  {
   "cell_type": "code",
   "execution_count": 0,
   "metadata": {
    "application/vnd.databricks.v1+cell": {
     "cellMetadata": {},
     "inputWidgets": {},
     "nuid": "f8a7323d-15b4-45d7-a997-36f6970e385b",
     "showTitle": false,
     "tableResultSettingsMap": {},
     "title": ""
    },
    "colab": {
     "base_uri": "https://localhost:8080/"
    },
    "id": "F-aHqWfkL0Ly",
    "outputId": "32ea8631-9678-44f3-a1dd-a9f8371315ba"
   },
   "outputs": [],
   "source": [
    "df.select(variance(\"salary\"),var_samp(\"salary\"),var_pop(\"salary\")) \\\n",
    "  .show(truncate=False)"
   ]
  },
  {
   "cell_type": "markdown",
   "metadata": {
    "application/vnd.databricks.v1+cell": {
     "cellMetadata": {},
     "inputWidgets": {},
     "nuid": "45dff172-0b4b-42ec-a98f-0dc42966c9e5",
     "showTitle": false,
     "tableResultSettingsMap": {},
     "title": ""
    },
    "id": "K6kaz9QsL-NO"
   },
   "source": [
    "Array String\n",
    "\n"
   ]
  },
  {
   "cell_type": "code",
   "execution_count": 0,
   "metadata": {
    "application/vnd.databricks.v1+cell": {
     "cellMetadata": {},
     "inputWidgets": {},
     "nuid": "9c2428d4-1ab1-4fb3-baaa-7f9050f61519",
     "showTitle": false,
     "tableResultSettingsMap": {},
     "title": ""
    },
    "id": "Z2ZW1_I6MDOR"
   },
   "outputs": [],
   "source": [
    "import pyspark\n",
    "from pyspark.sql import SparkSession\n",
    "spark = SparkSession.builder.master(\"local[1]\") \\\n",
    "                    .getOrCreate()"
   ]
  },
  {
   "cell_type": "code",
   "execution_count": 0,
   "metadata": {
    "application/vnd.databricks.v1+cell": {
     "cellMetadata": {},
     "inputWidgets": {},
     "nuid": "a63cb584-b45a-4bb0-9f12-9e0a5c723ef0",
     "showTitle": false,
     "tableResultSettingsMap": {},
     "title": ""
    },
    "id": "4aezuKfoMFn2"
   },
   "outputs": [],
   "source": [
    "columns = [\"name\",\"languagesAtSchool\",\"currentState\"]"
   ]
  },
  {
   "cell_type": "code",
   "execution_count": 0,
   "metadata": {
    "application/vnd.databricks.v1+cell": {
     "cellMetadata": {},
     "inputWidgets": {},
     "nuid": "1083cf17-0077-408a-8c89-1600bb78cc27",
     "showTitle": false,
     "tableResultSettingsMap": {},
     "title": ""
    },
    "id": "BwiXUhu6MHdo"
   },
   "outputs": [],
   "source": [
    "data = [(\"James,,Smith\",[\"Java\",\"Scala\",\"C++\"],\"CA\"), \\\n",
    "    (\"Michael,Rose,\",[\"Spark\",\"Java\",\"C++\"],\"NJ\"), \\\n",
    "    (\"Robert,,Williams\",[\"CSharp\",\"VB\"],\"NV\")]"
   ]
  },
  {
   "cell_type": "code",
   "execution_count": 0,
   "metadata": {
    "application/vnd.databricks.v1+cell": {
     "cellMetadata": {},
     "inputWidgets": {},
     "nuid": "05a948a4-6cca-40ca-81e9-b1dc26092107",
     "showTitle": false,
     "tableResultSettingsMap": {},
     "title": ""
    },
    "colab": {
     "base_uri": "https://localhost:8080/"
    },
    "id": "2G1hKKyJMJLf",
    "outputId": "c2ef2fbc-2cc3-48ff-a842-b2ba591ed84a"
   },
   "outputs": [],
   "source": [
    "df = spark.createDataFrame(data=data,schema=columns)\n",
    "df.printSchema()\n",
    "df.show(truncate=False)"
   ]
  },
  {
   "cell_type": "code",
   "execution_count": 0,
   "metadata": {
    "application/vnd.databricks.v1+cell": {
     "cellMetadata": {},
     "inputWidgets": {},
     "nuid": "f2add20c-ed3a-4570-89f9-59fbe43296ce",
     "showTitle": false,
     "tableResultSettingsMap": {},
     "title": ""
    },
    "id": "v10rYafXMcCy"
   },
   "outputs": [],
   "source": [
    "from pyspark.sql.functions import col, concat_ws"
   ]
  },
  {
   "cell_type": "code",
   "execution_count": 0,
   "metadata": {
    "application/vnd.databricks.v1+cell": {
     "cellMetadata": {},
     "inputWidgets": {},
     "nuid": "b057dfc3-5c01-4fc5-bd93-1b9a42638f36",
     "showTitle": false,
     "tableResultSettingsMap": {},
     "title": ""
    },
    "id": "GYtnxKw_MgtW"
   },
   "outputs": [],
   "source": [
    "df2 = df.withColumn(\"languagesAtSchool\",\n",
    "   concat_ws(\",\",col(\"languagesAtSchool\")))"
   ]
  },
  {
   "cell_type": "code",
   "execution_count": 0,
   "metadata": {
    "application/vnd.databricks.v1+cell": {
     "cellMetadata": {},
     "inputWidgets": {},
     "nuid": "8d0d30f4-af0c-4ef9-acb8-a4cc5ef5ccf6",
     "showTitle": false,
     "tableResultSettingsMap": {},
     "title": ""
    },
    "colab": {
     "base_uri": "https://localhost:8080/"
    },
    "id": "JGwwcRq0Mnw4",
    "outputId": "2937537c-62be-4ed1-9b05-dc4ffbe603c9"
   },
   "outputs": [],
   "source": [
    "df2.printSchema()\n",
    "df2.show(truncate=False)"
   ]
  },
  {
   "cell_type": "code",
   "execution_count": 0,
   "metadata": {
    "application/vnd.databricks.v1+cell": {
     "cellMetadata": {},
     "inputWidgets": {},
     "nuid": "d9c7c74e-fea6-4482-a313-0b8865594e89",
     "showTitle": false,
     "tableResultSettingsMap": {},
     "title": ""
    },
    "id": "4qwcwbQ8MxgI"
   },
   "outputs": [],
   "source": [
    "df.createOrReplaceTempView(\"ARRAY_STRING\")"
   ]
  },
  {
   "cell_type": "code",
   "execution_count": 0,
   "metadata": {
    "application/vnd.databricks.v1+cell": {
     "cellMetadata": {},
     "inputWidgets": {},
     "nuid": "2c949623-7882-4e5b-9d2e-b30d16bd6207",
     "showTitle": false,
     "tableResultSettingsMap": {},
     "title": ""
    },
    "colab": {
     "base_uri": "https://localhost:8080/"
    },
    "id": "17Hb3nUIM6iO",
    "outputId": "4aa7304c-5fd5-4e38-f5bd-d920ffcc9669"
   },
   "outputs": [],
   "source": [
    "spark.sql(\"select name,concat_ws(',',languagesAtSchool) as  languagesAtSchool,currentState from ARRAY_STRING\").show(truncate=False)"
   ]
  },
  {
   "cell_type": "markdown",
   "metadata": {
    "application/vnd.databricks.v1+cell": {
     "cellMetadata": {},
     "inputWidgets": {},
     "nuid": "cdde51fc-b5fe-48b3-a63c-dde2fe3044f2",
     "showTitle": false,
     "tableResultSettingsMap": {},
     "title": ""
    },
    "id": "Z4aAOoJ0Nn47"
   },
   "source": [
    "Array Type\n"
   ]
  },
  {
   "cell_type": "code",
   "execution_count": 0,
   "metadata": {
    "application/vnd.databricks.v1+cell": {
     "cellMetadata": {},
     "inputWidgets": {},
     "nuid": "bb3a1078-a2ce-4fc3-a7ca-1fd7e94ec797",
     "showTitle": false,
     "tableResultSettingsMap": {},
     "title": ""
    },
    "id": "nprii217Nqan"
   },
   "outputs": [],
   "source": [
    "from pyspark.sql import SparkSession\n",
    "from pyspark.sql.types import StringType, ArrayType,StructType,StructField\n",
    "spark = SparkSession.builder \\\n",
    "                    .getOrCreate()"
   ]
  },
  {
   "cell_type": "code",
   "execution_count": 0,
   "metadata": {
    "application/vnd.databricks.v1+cell": {
     "cellMetadata": {},
     "inputWidgets": {},
     "nuid": "fd8d138e-a892-4a94-bf2b-c798a989ac24",
     "showTitle": false,
     "tableResultSettingsMap": {},
     "title": ""
    },
    "id": "WSU5SEPsNvuo"
   },
   "outputs": [],
   "source": [
    "arrayCol = ArrayType(StringType(),False)"
   ]
  },
  {
   "cell_type": "code",
   "execution_count": 0,
   "metadata": {
    "application/vnd.databricks.v1+cell": {
     "cellMetadata": {},
     "inputWidgets": {},
     "nuid": "02039a4e-c942-457b-8c37-4650f556ff72",
     "showTitle": false,
     "tableResultSettingsMap": {},
     "title": ""
    },
    "id": "J3TyelhUOCII"
   },
   "outputs": [],
   "source": [
    "data = [\n",
    " (\"James,,Smith\",[\"Java\",\"Scala\",\"C++\"],[\"Spark\",\"Java\"],\"OH\",\"CA\"),\n",
    " (\"Michael,Rose,\",[\"Spark\",\"Java\",\"C++\"],[\"Spark\",\"Java\"],\"NY\",\"NJ\"),\n",
    " (\"Robert,,Williams\",[\"CSharp\",\"VB\"],[\"Spark\",\"Python\"],\"UT\",\"NV\")\n",
    "]"
   ]
  },
  {
   "cell_type": "code",
   "execution_count": 0,
   "metadata": {
    "application/vnd.databricks.v1+cell": {
     "cellMetadata": {},
     "inputWidgets": {},
     "nuid": "989c0181-a9e8-4227-afde-5c156364709d",
     "showTitle": false,
     "tableResultSettingsMap": {},
     "title": ""
    },
    "id": "lIwIEAPvOEco"
   },
   "outputs": [],
   "source": [
    "schema = StructType([\n",
    "    StructField(\"name\",StringType(),True),\n",
    "    StructField(\"languagesAtSchool\",ArrayType(StringType()),True),\n",
    "    StructField(\"languagesAtWork\",ArrayType(StringType()),True),\n",
    "    StructField(\"currentState\", StringType(), True),\n",
    "    StructField(\"previousState\", StringType(), True)\n",
    "  ])"
   ]
  },
  {
   "cell_type": "code",
   "execution_count": 0,
   "metadata": {
    "application/vnd.databricks.v1+cell": {
     "cellMetadata": {},
     "inputWidgets": {},
     "nuid": "871abae2-54fb-4b10-bfcf-1b3155166ed5",
     "showTitle": false,
     "tableResultSettingsMap": {},
     "title": ""
    },
    "colab": {
     "base_uri": "https://localhost:8080/"
    },
    "id": "-_qzTo9EOQMP",
    "outputId": "e6fafb14-ba47-4b5e-a82d-0592635f2a35"
   },
   "outputs": [],
   "source": [
    "df = spark.createDataFrame(data=data,schema=schema)\n",
    "df.printSchema()\n",
    "df.show()"
   ]
  },
  {
   "cell_type": "code",
   "execution_count": 0,
   "metadata": {
    "application/vnd.databricks.v1+cell": {
     "cellMetadata": {},
     "inputWidgets": {},
     "nuid": "f8695c2b-b90c-4515-b0d0-e136be63e651",
     "showTitle": false,
     "tableResultSettingsMap": {},
     "title": ""
    },
    "colab": {
     "base_uri": "https://localhost:8080/"
    },
    "id": "Bb3OXtm-OXdf",
    "outputId": "2c2abc5d-dc3f-431e-c950-bc9665213df4"
   },
   "outputs": [],
   "source": [
    "from pyspark.sql.functions import explode\n",
    "df.select(df.name,explode(df.languagesAtSchool)).show()"
   ]
  },
  {
   "cell_type": "code",
   "execution_count": 0,
   "metadata": {
    "application/vnd.databricks.v1+cell": {
     "cellMetadata": {},
     "inputWidgets": {},
     "nuid": "1763273e-33b6-4b71-a823-805bc1ab010f",
     "showTitle": false,
     "tableResultSettingsMap": {},
     "title": ""
    },
    "colab": {
     "base_uri": "https://localhost:8080/"
    },
    "id": "8ZNqHWaJOcKf",
    "outputId": "0c6f45bf-d3ba-419f-df51-cdb23b076713"
   },
   "outputs": [],
   "source": [
    "from pyspark.sql.functions import split\n",
    "df.select(split(df.name,\",\").alias(\"nameAsArray\")).show()"
   ]
  },
  {
   "cell_type": "code",
   "execution_count": 0,
   "metadata": {
    "application/vnd.databricks.v1+cell": {
     "cellMetadata": {},
     "inputWidgets": {},
     "nuid": "8ae1a232-1c11-4b1d-b696-b0c9cabaa01d",
     "showTitle": false,
     "tableResultSettingsMap": {},
     "title": ""
    },
    "colab": {
     "base_uri": "https://localhost:8080/"
    },
    "id": "cMDkzDzaO1I_",
    "outputId": "f64eb95c-608b-4d19-8422-2de8d52ed115"
   },
   "outputs": [],
   "source": [
    "from pyspark.sql.functions import array\n",
    "df.select(df.name,array(df.currentState,df.previousState).alias(\"States\")).show()"
   ]
  },
  {
   "cell_type": "code",
   "execution_count": 0,
   "metadata": {
    "application/vnd.databricks.v1+cell": {
     "cellMetadata": {},
     "inputWidgets": {},
     "nuid": "e3c19a9a-5a83-4d7c-ad6f-29e04b77dc1e",
     "showTitle": false,
     "tableResultSettingsMap": {},
     "title": ""
    },
    "colab": {
     "base_uri": "https://localhost:8080/"
    },
    "id": "kNCdU1wiO8Vv",
    "outputId": "8efd4b2f-8a79-4f97-ef6f-b5663bb1ca31"
   },
   "outputs": [],
   "source": [
    "from pyspark.sql.functions import array\n",
    "df.select(split(df.name,\",\").alias(\"nameAsArray\"),array(df.currentState,df.previousState).alias(\"States\")).show()"
   ]
  },
  {
   "cell_type": "code",
   "execution_count": 0,
   "metadata": {
    "application/vnd.databricks.v1+cell": {
     "cellMetadata": {},
     "inputWidgets": {},
     "nuid": "23d7add5-5d62-4c26-b391-b89e9690c52a",
     "showTitle": false,
     "tableResultSettingsMap": {},
     "title": ""
    },
    "colab": {
     "base_uri": "https://localhost:8080/"
    },
    "id": "z0vStJyFPG0g",
    "outputId": "85a42276-8625-4d81-d927-c7b1d69ed914"
   },
   "outputs": [],
   "source": [
    "from pyspark.sql.functions import array_contains\n",
    "df.select(df.name,array_contains(df.languagesAtSchool,\"Java\")\n",
    "    .alias(\"array_contains\")).show()"
   ]
  },
  {
   "cell_type": "markdown",
   "metadata": {
    "application/vnd.databricks.v1+cell": {
     "cellMetadata": {},
     "inputWidgets": {},
     "nuid": "57e62f17-bfe7-4568-b49f-661c9562fa9d",
     "showTitle": false,
     "tableResultSettingsMap": {},
     "title": ""
    },
    "id": "CpEsrBWYP_R4"
   },
   "source": [
    "Cast Column"
   ]
  },
  {
   "cell_type": "code",
   "execution_count": 0,
   "metadata": {
    "application/vnd.databricks.v1+cell": {
     "cellMetadata": {},
     "inputWidgets": {},
     "nuid": "cd258aa9-a40b-4e85-bced-2306d29180df",
     "showTitle": false,
     "tableResultSettingsMap": {},
     "title": ""
    },
    "id": "YjT-Oej1QHQH"
   },
   "outputs": [],
   "source": [
    "import pyspark\n",
    "from pyspark.sql import SparkSession"
   ]
  },
  {
   "cell_type": "code",
   "execution_count": 0,
   "metadata": {
    "application/vnd.databricks.v1+cell": {
     "cellMetadata": {},
     "inputWidgets": {},
     "nuid": "7cf70858-585d-47a8-b397-ef67e7ee39a9",
     "showTitle": false,
     "tableResultSettingsMap": {},
     "title": ""
    },
    "id": "fZvOECPbQLHw"
   },
   "outputs": [],
   "source": [
    "spark = SparkSession.builder.getOrCreate()"
   ]
  },
  {
   "cell_type": "code",
   "execution_count": 0,
   "metadata": {
    "application/vnd.databricks.v1+cell": {
     "cellMetadata": {},
     "inputWidgets": {},
     "nuid": "8a9044d5-bb3e-42e1-bd9e-3ce337b5dec4",
     "showTitle": false,
     "tableResultSettingsMap": {},
     "title": ""
    },
    "id": "3moEfnHuQNKP"
   },
   "outputs": [],
   "source": [
    "simpleData = [(\"James\",34,\"2006-01-01\",\"true\",\"M\",3000.60),\n",
    "    (\"Michael\",33,\"1980-01-10\",\"true\",\"F\",3300.80),\n",
    "    (\"Robert\",37,\"06-01-1992\",\"false\",\"M\",5000.50)\n",
    "  ]"
   ]
  },
  {
   "cell_type": "code",
   "execution_count": 0,
   "metadata": {
    "application/vnd.databricks.v1+cell": {
     "cellMetadata": {},
     "inputWidgets": {},
     "nuid": "156e5497-8faa-4d9d-b190-7064e721a13d",
     "showTitle": false,
     "tableResultSettingsMap": {},
     "title": ""
    },
    "colab": {
     "base_uri": "https://localhost:8080/"
    },
    "id": "bN-lTS4WQO2I",
    "outputId": "381fdbe5-d8a9-421b-a25f-4810c8ec483a"
   },
   "outputs": [],
   "source": [
    "columns = [\"firstname\",\"age\",\"jobStartDate\",\"isGraduated\",\"gender\",\"salary\"]\n",
    "df = spark.createDataFrame(data = simpleData, schema = columns)\n",
    "df.printSchema()\n",
    "df.show(truncate=False)"
   ]
  },
  {
   "cell_type": "code",
   "execution_count": 0,
   "metadata": {
    "application/vnd.databricks.v1+cell": {
     "cellMetadata": {},
     "inputWidgets": {},
     "nuid": "c5c8e00f-d9c7-4492-96ee-b625b28b2567",
     "showTitle": false,
     "tableResultSettingsMap": {},
     "title": ""
    },
    "id": "rsmzunoUQRof"
   },
   "outputs": [],
   "source": [
    "from pyspark.sql.functions import col\n",
    "from pyspark.sql.types import StringType,BooleanType,DateType"
   ]
  },
  {
   "cell_type": "code",
   "execution_count": 0,
   "metadata": {
    "application/vnd.databricks.v1+cell": {
     "cellMetadata": {},
     "inputWidgets": {},
     "nuid": "b1fede0e-3acc-4747-a20e-49f25e9b6315",
     "showTitle": false,
     "tableResultSettingsMap": {},
     "title": ""
    },
    "colab": {
     "base_uri": "https://localhost:8080/"
    },
    "id": "PwmhTqUzQZHv",
    "outputId": "70e0f767-c6e1-47c5-aa0d-039c756798e1"
   },
   "outputs": [],
   "source": [
    "df2 = df.withColumn(\"age\",col(\"age\").cast(StringType())) \\\n",
    "    .withColumn(\"isGraduated\",col(\"isGraduated\").cast(BooleanType())) \\\n",
    "    .withColumn(\"jobStartDate\",col(\"jobStartDate\").cast(DateType()))\n",
    "df2.printSchema()\n"
   ]
  },
  {
   "cell_type": "code",
   "execution_count": 0,
   "metadata": {
    "application/vnd.databricks.v1+cell": {
     "cellMetadata": {},
     "inputWidgets": {},
     "nuid": "d1897232-d29c-451a-919a-dee65610b549",
     "showTitle": false,
     "tableResultSettingsMap": {},
     "title": ""
    },
    "colab": {
     "base_uri": "https://localhost:8080/"
    },
    "id": "OcowsacBQouA",
    "outputId": "f0724a48-b49c-4008-c165-ee0ca80e5167"
   },
   "outputs": [],
   "source": [
    "\n",
    "df3 = df2.selectExpr(\"cast(age as int) age\",\n",
    "    \"cast(isGraduated as string) isGraduated\",\n",
    "    \"cast(jobStartDate as string) jobStartDate\")\n",
    "df3.printSchema()\n",
    "df3.show(truncate=False)"
   ]
  },
  {
   "cell_type": "code",
   "execution_count": 0,
   "metadata": {
    "application/vnd.databricks.v1+cell": {
     "cellMetadata": {},
     "inputWidgets": {},
     "nuid": "b997dd7d-e303-4a2e-ae16-df829f036d08",
     "showTitle": false,
     "tableResultSettingsMap": {},
     "title": ""
    },
    "colab": {
     "base_uri": "https://localhost:8080/"
    },
    "id": "1YCKZFVGQ2rA",
    "outputId": "d12b175b-1743-40e2-d30c-f3b5941bc159"
   },
   "outputs": [],
   "source": [
    "df3.createOrReplaceTempView(\"CastExample\")\n",
    "df4 = spark.sql(\"SELECT STRING(age),BOOLEAN(isGraduated),DATE(jobStartDate) from CastExample\")\n",
    "df4.printSchema()\n",
    "df4.show(truncate=False)"
   ]
  }
 ],
 "metadata": {
  "application/vnd.databricks.v1+notebook": {
   "computePreferences": null,
   "dashboards": [],
   "environmentMetadata": null,
   "inputWidgetPreferences": null,
   "language": "python",
   "notebookMetadata": {
    "pythonIndentUnit": 4
   },
   "notebookName": "Pyspark",
   "widgets": {}
  },
  "colab": {
   "provenance": []
  },
  "kernelspec": {
   "display_name": "Python 3",
   "name": "python3"
  },
  "language_info": {
   "name": "python"
  }
 },
 "nbformat": 4,
 "nbformat_minor": 0
}
